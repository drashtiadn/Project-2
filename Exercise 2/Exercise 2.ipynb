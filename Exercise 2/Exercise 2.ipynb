{
 "cells": [
  {
   "cell_type": "markdown",
   "id": "78c4668f",
   "metadata": {},
   "source": [
    "# Exercise 2: Image Compression"
   ]
  },
  {
   "cell_type": "code",
   "execution_count": 1,
   "id": "250956c6",
   "metadata": {},
   "outputs": [],
   "source": [
    "# Importing the libraries\n",
    "import numpy as np\n",
    "from PIL import Image\n",
    "from sklearn.cluster import KMeans"
   ]
  },
  {
   "cell_type": "code",
   "execution_count": 2,
   "id": "fe3fd5ac",
   "metadata": {},
   "outputs": [],
   "source": [
    "# Load the image\n",
    "image_path = 'sunset.jpg'\n",
    "image = Image.open(image_path)"
   ]
  },
  {
   "cell_type": "code",
   "execution_count": 3,
   "id": "ffa9ee53",
   "metadata": {},
   "outputs": [],
   "source": [
    "# Preprocess the image for clustering\n",
    "pixels = np.array(image)\n",
    "reshaped_pixels = pixels.reshape(-1, 3) # Reshape to a 2D array"
   ]
  },
  {
   "cell_type": "code",
   "execution_count": 4,
   "id": "13a043f2",
   "metadata": {},
   "outputs": [
    {
     "data": {
      "text/plain": [
       "KMeans(n_clusters=32)"
      ]
     },
     "execution_count": 4,
     "metadata": {},
     "output_type": "execute_result"
    }
   ],
   "source": [
    "# Apply K-Means clustering\n",
    "num_colors = 32 # Choose the number of colors for compression\n",
    "kmeans = KMeans(n_clusters = num_colors)\n",
    "kmeans.fit(reshaped_pixels)"
   ]
  },
  {
   "cell_type": "code",
   "execution_count": 5,
   "id": "f2bb1b34",
   "metadata": {},
   "outputs": [],
   "source": [
    "# Replace each pixel's color with the centroids of its cluster\n",
    "compressed_pixels = kmeans.cluster_centers_[kmeans.labels_]"
   ]
  },
  {
   "cell_type": "code",
   "execution_count": 6,
   "id": "f7f22723",
   "metadata": {},
   "outputs": [],
   "source": [
    "# Reshape the compressed pixels back to the original image shape\n",
    "compressed_pixels = compressed_pixels.reshape(pixels.shape)"
   ]
  },
  {
   "cell_type": "code",
   "execution_count": 7,
   "id": "93b4658f",
   "metadata": {},
   "outputs": [],
   "source": [
    "# Create a compressed image from the compressed pixels\n",
    "compressed_image = Image.fromarray(compressed_pixels.astype('uint8'))"
   ]
  },
  {
   "cell_type": "code",
   "execution_count": 8,
   "id": "0ba53e9a",
   "metadata": {},
   "outputs": [],
   "source": [
    "# Save the compressed image\n",
    "compressed_image_path = 'compressed_image.jpg'\n",
    "compressed_image.save(compressed_image_path)"
   ]
  },
  {
   "cell_type": "code",
   "execution_count": 9,
   "id": "65561fbf",
   "metadata": {},
   "outputs": [
    {
     "name": "stdout",
     "output_type": "stream",
     "text": [
      "Original image size: (1200, 601)\n",
      "Compressed image size: (1200, 601)\n"
     ]
    }
   ],
   "source": [
    "# Compare the original and compressed image\n",
    "original_size = image.size\n",
    "compressed_size = compressed_image.size\n",
    "\n",
    "print(f'Original image size: {original_size}')\n",
    "print(f'Compressed image size: {compressed_size}')"
   ]
  }
 ],
 "metadata": {
  "kernelspec": {
   "display_name": "Python 3 (ipykernel)",
   "language": "python",
   "name": "python3"
  },
  "language_info": {
   "codemirror_mode": {
    "name": "ipython",
    "version": 3
   },
   "file_extension": ".py",
   "mimetype": "text/x-python",
   "name": "python",
   "nbconvert_exporter": "python",
   "pygments_lexer": "ipython3",
   "version": "3.9.13"
  }
 },
 "nbformat": 4,
 "nbformat_minor": 5
}
